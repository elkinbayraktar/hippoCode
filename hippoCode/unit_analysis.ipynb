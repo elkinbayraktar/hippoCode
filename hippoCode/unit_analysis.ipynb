{
 "cells": [
  {
   "cell_type": "markdown",
   "metadata": {},
   "source": [
    "# Unit Analysis Practice"
   ]
  },
  {
   "cell_type": "markdown",
   "metadata": {},
   "source": [
    "imports"
   ]
  },
  {
   "cell_type": "code",
   "execution_count": 10,
   "metadata": {},
   "outputs": [],
   "source": [
    "import numpy as np\n",
    "import matplotlib.pyplot as plt\n",
    "#sampling rate of the recoridng\n",
    "fs=30000\n"
   ]
  },
  {
   "cell_type": "markdown",
   "metadata": {},
   "source": [
    "Load the unit data files - refer to phy for formatting of files"
   ]
  },
  {
   "cell_type": "code",
   "execution_count": 11,
   "metadata": {},
   "outputs": [
    {
     "name": "stdout",
     "output_type": "stream",
     "text": [
      "Size of unit ID array = (23374679,)\n",
      "Size of unit ID array = (23374679,)\n",
      "Size of unit ID array = (23374679,)\n",
      "Time of last spike: 74707.9636 seconds or 20.752212111111113 hours\n"
     ]
    }
   ],
   "source": [
    "unit_IDs = np.load(file = 'spike_clusters.npy',mmap_mode= None)\n",
    "spike_times = np.load(file = 'spike_times.npy',mmap_mode= None)\n",
    "amplitudes  = np.load(file = 'amplitudes.npy',mmap_mode= None)\n",
    "print(f'Size of unit ID array = {np.shape(unit_IDs)}')\n",
    "print(f'Size of unit ID array = {np.shape(spike_times)}')\n",
    "print(f'Size of unit ID array = {np.shape(unit_IDs)}')\n",
    "print(f'Time of last spike: {max(spike_times) / fs} seconds or {max(spike_times) / fs/3600} hours')\n"
   ]
  },
  {
   "cell_type": "markdown",
   "metadata": {},
   "source": [
    "Add each spike as (time,amp) tuple to a list(value) with a paired unit #(value) in dictionary"
   ]
  },
  {
   "cell_type": "code",
   "execution_count": 12,
   "metadata": {},
   "outputs": [
    {
     "name": "stdout",
     "output_type": "stream",
     "text": [
      "Progress: 21.390668081473972\n",
      "Progress: 42.781336162947945\n",
      "Progress: 64.17200424442193\n",
      "Progress: 85.56267232589589\n"
     ]
    }
   ],
   "source": [
    "import time\n",
    "\n",
    "units_dict = {}\n",
    "#extract the number of \"unique\" spikes/units, the original indices in npy file, and the count of each\n",
    "uniqueSpikeIDs,OriginalSpikeInds,spikeCounts = np.unique(ar = unit_IDs,return_inverse=True, return_counts=True)\n",
    "#create keys for all of the units - keys are the unit #s\n",
    "for u in range(0,len(uniqueSpikeIDs)):\n",
    "    units_dict[uniqueSpikeIDs[u]] = []\n",
    "#loop thru all spikes and their corresponding info --> assign each spike as tuple(t,amp) to a unit(key) in the dictionary\n",
    "prog = 0 \n",
    "total = len(unit_IDs)\n",
    "\n",
    "for t,amp,u in zip(spike_times,amplitudes,unit_IDs):\n",
    "    units_dict[u].append((t/fs*1000,amp))\n",
    "    prog+=1\n",
    "    if(prog % 5000000 == 0 and prog != 0):\n",
    "        print(f\"Progress: {prog/total*100}\")\n",
    "        end = time.time()\n",
    "#sort the spikes based on time\n",
    "for spikeList in units_dict.values():\n",
    "    spikeList.sort(key = lambda x: x[0])\n",
    "    spikeList = np.array(spikeList)\n",
    "\n"
   ]
  },
  {
   "cell_type": "markdown",
   "metadata": {},
   "source": [
    "# Unit-Spike Analysis "
   ]
  },
  {
   "cell_type": "markdown",
   "metadata": {},
   "source": [
    "start with raster plots"
   ]
  },
  {
   "cell_type": "code",
   "execution_count": 34,
   "metadata": {},
   "outputs": [],
   "source": [
    "from matplotlib.pyplot import eventplot\n",
    "\n",
    "#need to bin the events, if spike occurrs within the time bin ---> assign a binary value of 1 to the binary array \n",
    "'''\n",
    "Binary Array : \n",
    "size = (numUnits x numTimeBins)\n",
    "numTimeBins = totalTime / timeResolution\n",
    "timeResolution = 1 ms?\n",
    "totalTime = 1000ms? \n",
    "timeOfSpike = sample / fs(30000)\n",
    "'''\n",
    "def plot_raster(unit_list,time_window,binsize,colors):\n",
    "\n",
    "    '''\n",
    "    ARGS: \n",
    "\n",
    "    units(list of ints)  : list of units to be plotted on the raster\n",
    "    time_window(tuple of floats) :  tuple containing the start and end in milliseconds \n",
    "    binsize(float) : float containing the binsize to be used for the bianry raster in milliseconds\n",
    "\n",
    "    '''\n",
    "\n",
    "    '''DATA PREPROCESSING '''\n",
    "    #create the binary raster matrix which will be plotted on the\n",
    "    numBins = int(np.ceil((time_window[1] - time_window[0]) / binsize))\n",
    "    raster_array = np.zeros((len(unit_list),(numBins)))\n",
    "    #convert each spike list into binned binary 1s and 0s\n",
    "    prog = 0 \n",
    "    total = len(unit_list)\n",
    "    for u in range(0,len(unit_list)):\n",
    "        print(f\"Progress = {prog/total*100}\")\n",
    "        #define the range of time for the currentbin\n",
    "        #loop thru the time values\n",
    "        for spike in units_dict[unit_list[u]]:\n",
    "            if time_window[0] <= spike[0] < time_window[1]:\n",
    "                            #calculate the bin # of this spike\n",
    "                binNum = int(np.floor((spike[0] - time_window[0]) / binsize ))\n",
    "                #assign 1 to the time bin where spike occurred\n",
    "                raster_array[u][binNum] = 1\n",
    "    \n",
    "    fig, ax = plt.subplots()\n",
    "\n",
    "    '''PLOTTING THE BINARY SPIKE ARRAY'''\n",
    "    #loop over the units/trials\n",
    "    for n in range(np.shape(raster_array)[0]):\n",
    "        #create a list of the array indices for this unit(or trial) where a spike occurred(raster_array[n][s] == 1)\n",
    "        times = [i for i,s in enumerate(raster_array[n]) if s == 1]\n",
    "        #convert the indices(bins) into a meaningful time(ms)\n",
    "        times = [i*binsize+time_window[0] for i in times]\n",
    "        #plot the vlines for this unit(trial)\n",
    "        ax.vlines(times,n - .25, n+.25)\n",
    "    \n",
    "    ax.set_xlim(time_window[0],time_window[1])\n",
    "    ax.set_yticks(range(len(unit_list)))\n",
    "    ax.set_ylim(-.5,len(unit_list))\n",
    "\n",
    "    ax.set_xlabel('Time(ms)')\n",
    "    ax.set_ylabel('Unit')\n",
    "    ax.set_title('Spike Raster')\n",
    "\n",
    "    \n",
    "\n",
    "def plot_FR(units,time_window,binsize, mode):\n",
    "\n",
    "    time_elapsed = time_window[1] - time_window[0]\n",
    "    '''DATA PREPROCESSING\n",
    "        - obtain the binned firing rate of units specified\n",
    "            - loop thru all spikes occurring during the time window of interest'''\n",
    "\n",
    "    FR_array = np.zeros(len(units),time_elapsed / binsize)\n",
    "    #loop over the units specified \n",
    "    for u in units:\n",
    "        #find the first occurrence of a spike within the desired range\n",
    "        firstSpike = np.where(units_dict[u][0] >= time_window[0])\n",
    "        #loop thru unit's spikes: start from the first spike in the time window, break upon reaching end of time_window\n",
    "        for i in range(firstSpike,len(units_dict[u])):\n",
    "            if(units_dict[u][i][0] >= time_window[1]):\n",
    "                break\n",
    "            binNum = np.floor((units_dict[u][i][0] - time_window[0]) / binsize)\n",
    "            #add to tally of spikes within time bin for this unit(u)\n",
    "            FR_array[u][binNum] += 1\n",
    "    \n",
    "    if mode == 'line':\n",
    "        from matplotlib.pyplot import eventplot\n",
    "\n",
    "#need to bin the events, if spike occurrs within the time bin ---> assign a binary value of 1 to the binary array \n",
    "'''\n",
    "Binary Array : \n",
    "size = (numUnits x numTimeBins)\n",
    "numTimeBins = totalTime / timeResolution\n",
    "timeResolution = 1 ms?\n",
    "totalTime = 1000ms? \n",
    "timeOfSpike = sample / fs(30000)\n",
    "'''\n",
    "def plot_raster(unit_list,time_window,binsize,colors_in,ax):\n",
    "\n",
    "    '''\n",
    "    ARGS: \n",
    "\n",
    "    units(list of ints)  : list of units to be plotted on the raster\n",
    "    time_window(tuple of floats) :  tuple containing the start and end in milliseconds \n",
    "    binsize(float) : float containing the binsize to be used for the bianry raster in milliseconds\n",
    "\n",
    "    '''\n",
    "\n",
    "    '''DATA PREPROCESSING '''\n",
    "    #create the binary raster matrix which will be plotted on the\n",
    "    numBins = int(np.ceil((time_window[1] - time_window[0]) / binsize))\n",
    "    raster_array = np.zeros((len(unit_list),(numBins)))\n",
    "    #convert each spike list into binned binary 1s and 0s\n",
    "    prog = 0 \n",
    "    total = len(unit_list)\n",
    "    for u in range(0,len(unit_list)):\n",
    "        print(f\"Progress = {prog/total*100}\")\n",
    "        #define the range of time for the currentbin\n",
    "        #loop thru the time values\n",
    "        for spike in units_dict[unit_list[u]]:\n",
    "            if time_window[0] <= spike[0] < time_window[1]:\n",
    "                            #calculate the bin # of this spike\n",
    "                binNum = int(np.floor((spike[0] - time_window[0]) / binsize ))\n",
    "                #assign 1 to the time bin where spike occurred\n",
    "                raster_array[u][binNum] = 1\n",
    "    \n",
    "    if ax is None:\n",
    "        _,ax = plt.subplots(1,1)\n",
    "\n",
    "    '''PLOTTING THE BINARY SPIKE ARRAY'''\n",
    "    #loop over the units/trials\n",
    "    for n in range(np.shape(raster_array)[0]):\n",
    "        #create a list of the array indices for this unit(or trial) where a spike occurred(raster_array[n][s] == 1)\n",
    "        times = [i for i,s in enumerate(raster_array[n]) if s == 1]\n",
    "        #convert the indices(bins) into a meaningful time(ms)\n",
    "        times = [i*binsize+time_window[0] for i in times]\n",
    "        #plot the vlines for this unit(trial)\n",
    "        ax.vlines(times,n - .25, n+.25,colors = colors_in[n])\n",
    "    \n",
    "    ax.set_xlim(time_window[0],time_window[1])\n",
    "    ax.set_yticks(range(len(unit_list)))\n",
    "    ax.set_ylim(-.5,len(unit_list))\n",
    "\n",
    "    ax.set_xlabel('Time(ms)')\n",
    "    ax.set_ylabel('Unit')\n",
    "    ax.set_title('Spike Raster')\n",
    "\n",
    "    \n",
    "\n",
    "def plot_FR(units_in,time_window,binsize, ax, colors):\n",
    "\n",
    "\n",
    "    if ax is None: \n",
    "        _, ax = plt.subplots(1,1)\n",
    "\n",
    "    time_elapsed = time_window[1] - time_window[0]\n",
    "    '''DATA PREPROCESSING\n",
    "        - obtain the binned firing rate of units specified\n",
    "            - loop thru all spikes occurring during the time window of interest'''\n",
    "    #check that the time window and binsize allow for integer milllisecond bins \n",
    "    if int(time_elapsed % binsize != 0):\n",
    "        raise Exception(\"Time elapsed and binsize must be compatible such that the number of bins(time_elapsed mod binsize = 0) is an integer\")\n",
    "    FR_array = np.zeros((len(units_in),int(time_elapsed / binsize)))\n",
    "    #loop over the units specified \n",
    "    for u in range(len(units_in)):\n",
    "        spikeTimes = np.array([units_dict[units_in[u]][i][0] for i in range(len(units_dict[units_in[u]]))])\n",
    "        #find the first occurrence of a spike within the desired range\n",
    "        firstSpike = np.where(spikeTimes >= time_window[0])[0][0]\n",
    "        #loop thru unit's spikes: start from the first spike in the time window, break upon reaching end of time_window\n",
    "        for i in range(firstSpike,len(units_dict[units_in[u]])):\n",
    "            if(units_dict[units_in[u]][i][0] >= time_window[1]):\n",
    "                break\n",
    "            binNum = np.floor((units_dict[units_in[u]][i][0] - time_window[0]) / binsize)\n",
    "            #add to tally of spikes within time bin for this unit(u)\n",
    "            FR_array[u][int(binNum)] += 1\n",
    "    \n",
    "\n",
    "    '''FIRING RATE PLOTTING'''\n",
    "    t = np.linspace(time_window[0],time_window[1],np.shape(FR_array)[1])\n",
    "    for i in range(len(units_in)):\n",
    "        ax.plot(t,FR_array[i],color = colors[i])\n",
    "    ax.set_ylabel('Firing Rate(spikes/s)')\n",
    "    ax.set_xlabel('Time(ms)')\n"
   ]
  },
  {
   "cell_type": "code",
   "execution_count": 28,
   "metadata": {},
   "outputs": [
    {
     "name": "stdout",
     "output_type": "stream",
     "text": [
      "Progress = 0.0\n",
      "Progress = 0.0\n",
      "Progress = 0.0\n"
     ]
    },
    {
     "data": {
      "image/png": "[encoded data removed]",
      "text/plain": [
       "<Figure size 432x288 with 1 Axes>"
      ]
     },
     "metadata": {
      "needs_background": "light"
     },
     "output_type": "display_data"
    }
   ],
   "source": [
    "plot_raster(unit_list = [37,86,219],time_window = (0,50000),binsize = 0.5,colors_in = ['blue','green','red'])"
   ]
  },
  {
   "cell_type": "code",
   "execution_count": 23,
   "metadata": {},
   "outputs": [
    {
     "ename": "TypeError",
     "evalue": "plot_FR() got an unexpected keyword argument 'mode'",
     "output_type": "error",
     "traceback": [
      "\u001b[0;31m---------------------------------------------------------------------------\u001b[0m",
      "\u001b[0;31mTypeError\u001b[0m                                 Traceback (most recent call last)",
      "\u001b[1;32m/Users/elkinbayraktar/Desktop/diba lab/diba_proj_HC/unit_analysis /unit_analysis.ipynb Cell 12\u001b[0m in \u001b[0;36m<cell line: 1>\u001b[0;34m()\u001b[0m\n\u001b[0;32m----> <a href='vscode-notebook-cell:/Users/elkinbayraktar/Desktop/diba%20lab/diba_proj_HC/unit_analysis%20/unit_analysis.ipynb#X14sZmlsZQ%3D%3D?line=0'>1</a>\u001b[0m plot_FR([\u001b[39m37\u001b[39;49m,\u001b[39m86\u001b[39;49m,\u001b[39m219\u001b[39;49m],time_window \u001b[39m=\u001b[39;49m (\u001b[39m1e3\u001b[39;49m,\u001b[39m1e5\u001b[39;49m),binsize \u001b[39m=\u001b[39;49m \u001b[39m1000\u001b[39;49m,mode \u001b[39m=\u001b[39;49m \u001b[39m'\u001b[39;49m\u001b[39mline\u001b[39;49m\u001b[39m'\u001b[39;49m,colors \u001b[39m=\u001b[39;49m [\u001b[39m'\u001b[39;49m\u001b[39mblue\u001b[39;49m\u001b[39m'\u001b[39;49m,\u001b[39m'\u001b[39;49m\u001b[39mgreen\u001b[39;49m\u001b[39m'\u001b[39;49m,\u001b[39m'\u001b[39;49m\u001b[39mred\u001b[39;49m\u001b[39m'\u001b[39;49m])\n",
      "\u001b[0;31mTypeError\u001b[0m: plot_FR() got an unexpected keyword argument 'mode'"
     ]
    }
   ],
   "source": [
    "plot_FR([37,86,219],time_window = (0,50000),binsize = 1000,colors = ['blue','green','red'])"
   ]
  },
  {
   "cell_type": "code",
   "execution_count": 35,
   "metadata": {},
   "outputs": [
    {
     "name": "stdout",
     "output_type": "stream",
     "text": [
      "Progress = 0.0\n",
      "Progress = 0.0\n",
      "Progress = 0.0\n"
     ]
    },
    {
     "data": {
      "image/png": "[encoded data removed]",
      "text/plain": [
       "<Figure size 432x288 with 2 Axes>"
      ]
     },
     "metadata": {
      "needs_background": "light"
     },
     "output_type": "display_data"
    }
   ],
   "source": [
    "fig, ax = plt.subplots(2,1)\n",
    "\n",
    "plot_raster(unit_list = [37,86,219],time_window = (0,50000),binsize = 0.5,colors_in = ['blue','green','red'], ax = ax[0])\n",
    "\n",
    "plot_FR([37,86,219],time_window = (0,50000),binsize = 1000,colors = ['blue','green','red'], ax = ax[1])\n",
    "\n"
   ]
  }
 ],
 "metadata": {
  "kernelspec": {
   "display_name": "Python 3.9.12 ('base')",
   "language": "python",
   "name": "python3"
  },
  "language_info": {
   "codemirror_mode": {
    "name": "ipython",
    "version": 3
   },
   "file_extension": ".py",
   "mimetype": "text/x-python",
   "name": "python",
   "nbconvert_exporter": "python",
   "pygments_lexer": "ipython3",
   "version": "3.9.12"
  },
  "orig_nbformat": 4,
  "vscode": {
   "interpreter": {
    "hash": "1f9d33262c74ab344b9641808be586d2102eec502fcdd0df58e4faedcccc0168"
   }
  }
 },
 "nbformat": 4,
 "nbformat_minor": 2
}
